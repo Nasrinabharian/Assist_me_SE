{
 "cells": [
  {
   "cell_type": "code",
   "execution_count": 1,
   "id": "finite-foster",
   "metadata": {},
   "outputs": [],
   "source": [
    "import pandas as pd\n",
    "import numpy as np\n",
    "from sklearn.model_selection import train_test_split\n",
    "from sklearn.linear_model import LogisticRegression"
   ]
  },
  {
   "cell_type": "code",
   "execution_count": 2,
   "id": "basic-multiple",
   "metadata": {
    "scrolled": true
   },
   "outputs": [
    {
     "name": "stderr",
     "output_type": "stream",
     "text": [
      "E:\\term6\\Anaconda\\setUp\\envs\\tensorflow\\lib\\site-packages\\ipykernel_launcher.py:10: UserWarning: Boolean Series key will be reindexed to match DataFrame index.\n",
      "  # Remove the CWD from sys.path while we load stuff.\n"
     ]
    },
    {
     "data": {
      "text/plain": [
       "Index(['Gender', 'Contact', 'Age', 'Fever', 'Tiredness', 'Dry-Cough',\n",
       "       'Difficulty-in-Breathing', 'Sore-Throat', 'Pains', 'Nasal-Congestion',\n",
       "       'Runny-Nose', 'Diarrhea', 'Severity'],\n",
       "      dtype='object')"
      ]
     },
     "execution_count": 2,
     "metadata": {},
     "output_type": "execute_result"
    }
   ],
   "source": [
    "df = pd.read_csv('E:\\\\term8\\\\softwareeng\\\\project\\\\implementation\\\\Cleaned-Data.csv')\n",
    "df = df[df.Country == 'Iran']\n",
    "df['Gender'] = (1/6)*df['Gender_Male'] + (2/6)*df['Gender_Transgender'] + (3/6)*df['Gender_Female']\n",
    "df['Contact'] = (1/6)*df['Contact_No'] + (2/6)*df['Contact_Dont-Know'] + (3/6)*df['Contact_Yes']\n",
    "df['Age'] = (1/20)*df['Age_0-9'] + (2/20)*df['Age_10-19'] + (3/20)*df['Age_20-24'] + (4/20)*df['Age_25-59'] + (5/20)*df['Age_60+']\n",
    "df['Severity'] = 1 - df['Severity_None']\n",
    "df = df[['Gender','Contact','Age','Fever','Tiredness','Dry-Cough','Difficulty-in-Breathing','Sore-Throat',\n",
    "        'Pains','Nasal-Congestion','Runny-Nose','Diarrhea','Severity']]\n",
    "df_train, df_test = train_test_split(df, test_size = 0.2, random_state = 25)\n",
    "temp = df_train[df['Severity'] == 0]\n",
    "temp = temp.sample(12000,replace = True)\n",
    "df_train = pd.concat([df_train, temp])\n",
    "x_train = df_train.iloc[:,0:12]\n",
    "y_train = df_train.iloc[:,12]\n",
    "x_test = df_test.iloc[:,0:12]\n",
    "y_test = df_test.iloc[:,12]\n",
    "df.columns"
   ]
  },
  {
   "cell_type": "code",
   "execution_count": 3,
   "id": "unable-review",
   "metadata": {},
   "outputs": [
    {
     "name": "stdout",
     "output_type": "stream",
     "text": [
      "51.036311053984576\n",
      "67.66098484848484\n"
     ]
    }
   ],
   "source": [
    "clf = LogisticRegression()\n",
    "clf.fit(x_train, y_train)\n",
    "print(clf.score(x_train, y_train)*100)\n",
    "print(clf.score(x_test, y_test)*100)"
   ]
  },
  {
   "cell_type": "code",
   "execution_count": 4,
   "id": "measured-texture",
   "metadata": {},
   "outputs": [
    {
     "data": {
      "text/plain": [
       "<AxesSubplot:>"
      ]
     },
     "execution_count": 4,
     "metadata": {},
     "output_type": "execute_result"
    },
    {
     "data": {
      "image/png": "[encoded data removed]",
      "text/plain": [
       "<Figure size 432x288 with 1 Axes>"
      ]
     },
     "metadata": {
      "needs_background": "light"
     },
     "output_type": "display_data"
    }
   ],
   "source": [
    "df_train.Severity.hist()"
   ]
  },
  {
   "cell_type": "code",
   "execution_count": 5,
   "id": "decent-conspiracy",
   "metadata": {},
   "outputs": [
    {
     "name": "stdout",
     "output_type": "stream",
     "text": [
      "              precision    recall  f1-score   support\n",
      "\n",
      "           0       0.11      0.23      0.15       800\n",
      "           1       0.87      0.74      0.80      5536\n",
      "\n",
      "    accuracy                           0.68      6336\n",
      "   macro avg       0.49      0.49      0.48      6336\n",
      "weighted avg       0.77      0.68      0.72      6336\n",
      "\n"
     ]
    }
   ],
   "source": [
    "from sklearn.metrics import classification_report\n",
    "print(classification_report(clf.predict(x_test), y_test))"
   ]
  },
  {
   "cell_type": "code",
   "execution_count": 6,
   "id": "rolled-portal",
   "metadata": {},
   "outputs": [
    {
     "name": "stdout",
     "output_type": "stream",
     "text": [
      "[0.10782725]\n"
     ]
    },
    {
     "data": {
      "text/plain": [
       "array([[-0.09825142, -0.0095641 ,  0.05930809,  0.00339722,  0.00774645,\n",
       "        -0.01710499, -0.02973367, -0.01846501,  0.00842469, -0.04217077,\n",
       "         0.01005758, -0.00174776]])"
      ]
     },
     "execution_count": 6,
     "metadata": {},
     "output_type": "execute_result"
    }
   ],
   "source": [
    "print(clf.intercept_)\n",
    "clf.coef_"
   ]
  },
  {
   "cell_type": "code",
   "execution_count": 7,
   "id": "comparable-education",
   "metadata": {},
   "outputs": [],
   "source": [
    "#input:\n",
    "# Gender-> Male:1, Transgender:2, Female: 3\n",
    "# Contact-> No:1, Don't-Know:2, Yes:3\n",
    "# Age-> 0-9:1, 10-19:2, 20-24:3, 25-59:4, 60+:5\n",
    "#Fever-> yes:1, no:0\n",
    "#Tiredness-> yes:1, no:0\n",
    "#Dry-cough-> yes:1, no:0\n",
    "#Difficulty-in-breathing-> yes:1, no:0\n",
    "#Sore-Throat-> yes:1, no:0\n",
    "#Pains-> yes:1, no:0\n",
    "#Nasal-Congestion-> yes:1, no:0\n",
    "#Runny_Nose-> yes:1, no:0\n",
    "#Diarrhea-> yes:1, no:0\n",
    "#output:\n",
    "#probability of being infected in scale of 0 to 100\n",
    "\n",
    "def diagnose(features):\n",
    "    arr = np.array([features]).astype('float')\n",
    "    arr[0,0] = arr[0,0]/6\n",
    "    arr[0,1] = arr[0,1]/6\n",
    "    arr[0,2] = arr[0,2]/20\n",
    "    coef = np.array([[-0.02752593,  0.03977402,  0.02206546, -0.00929782,  0.01594905,\n",
    "                      -0.00560558, -0.02683619,  0.00352665, -0.00270834, -0.02176323, \n",
    "                      0.01276784, -0.00998991]])\n",
    "    intercept = 1.10297915\n",
    "    if np.sum(arr[0,3:11])==0 and arr[0,1] == 1/6:\n",
    "        ret_value = 5.491\n",
    "    elif np.sum(arr[0,3:11])==0 and arr[0,1] == 2/6:\n",
    "        ret_value = 30.323\n",
    "    else:\n",
    "        ret_value = float(1 / (1+np.exp(-1*(intercept+np.sum(np.multiply(coef, arr))))))*100\n",
    "    return np.round(ret_value,3)"
   ]
  },
  {
   "cell_type": "code",
   "execution_count": 8,
   "id": "front-michigan",
   "metadata": {},
   "outputs": [
    {
     "data": {
      "text/plain": [
       "74.897"
      ]
     },
     "execution_count": 8,
     "metadata": {},
     "output_type": "execute_result"
    }
   ],
   "source": [
    "diagnose([3,3,3,1,0,0,0,0,0,0,0,1])"
   ]
  },
  {
   "cell_type": "code",
   "execution_count": 9,
   "id": "decreased-forwarding",
   "metadata": {
    "scrolled": true
   },
   "outputs": [
    {
     "data": {
      "text/plain": [
       "5.491"
      ]
     },
     "execution_count": 9,
     "metadata": {},
     "output_type": "execute_result"
    }
   ],
   "source": [
    "diagnose([3,1,5,0,0,0,0,0,0,0,0,0])"
   ]
  }
 ],
 "metadata": {
  "kernelspec": {
   "display_name": "Python [conda env:tensorflow] *",
   "language": "python",
   "name": "conda-env-tensorflow-py"
  },
  "language_info": {
   "codemirror_mode": {
    "name": "ipython",
    "version": 3
   },
   "file_extension": ".py",
   "mimetype": "text/x-python",
   "name": "python",
   "nbconvert_exporter": "python",
   "pygments_lexer": "ipython3",
   "version": "3.6.10"
  }
 },
 "nbformat": 4,
 "nbformat_minor": 5
}
